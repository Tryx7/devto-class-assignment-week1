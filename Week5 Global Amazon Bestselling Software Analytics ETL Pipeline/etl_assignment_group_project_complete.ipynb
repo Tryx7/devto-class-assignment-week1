{
 "cells": [
  {
   "cell_type": "code",
   "id": "initial_id",
   "metadata": {
    "collapsed": true,
    "ExecuteTime": {
     "end_time": "2025-08-31T06:17:04.629640Z",
     "start_time": "2025-08-31T06:17:03.990821Z"
    }
   },
   "source": [
    "import requests\n",
    "import pandas as pd\n",
    "from sqlalchemy import create_engine\n",
    "import os\n",
    "from dotenv import load_dotenv\n",
    "\n"
   ],
   "outputs": [],
   "execution_count": 1
  },
  {
   "metadata": {
    "ExecuteTime": {
     "end_time": "2025-08-31T06:17:06.940564Z",
     "start_time": "2025-08-31T06:17:06.932402Z"
    }
   },
   "cell_type": "code",
   "source": "load_dotenv()  # Load environment variables from .env file\n",
   "id": "db2b5f8982ef9023",
   "outputs": [
    {
     "data": {
      "text/plain": [
       "True"
      ]
     },
     "execution_count": 2,
     "metadata": {},
     "output_type": "execute_result"
    }
   ],
   "execution_count": 2
  },
  {
   "metadata": {
    "ExecuteTime": {
     "end_time": "2025-08-31T06:17:12.331462Z",
     "start_time": "2025-08-31T06:17:10.918958Z"
    }
   },
   "cell_type": "code",
   "source": [
    "\n",
    "# --- EXTRACTION ---\n",
    "print(\"=== EXTRACTION PHASE ===\")\n",
    "base_url = \"https://data-liart.vercel.app/data\"\n",
    "all_products = []\n",
    "page = 1\n",
    "has_more = True\n",
    "\n",
    "print(\"Extracting data from API...\")\n",
    "while has_more:\n",
    "    response = requests.get(f\"{base_url}?page={page}\")\n",
    "    data = response.json()\n",
    "\n",
    "    # Use the correct key: 'data'\n",
    "    all_products.extend(data.get('data', []))\n",
    "\n",
    "    has_more = data.get('hasMore', False)\n",
    "    page += 1\n",
    "    print(f\"Fetched page {page-1}. Total products so far: {len(all_products)}\")\n",
    "\n",
    "print(f\"Extraction complete. Total products: {len(all_products)}\")\n",
    "df = pd.DataFrame(all_products)\n"
   ],
   "id": "b5fa59221207df58",
   "outputs": [
    {
     "name": "stdout",
     "output_type": "stream",
     "text": [
      "=== EXTRACTION PHASE ===\n",
      "Extracting data from API...\n",
      "Fetched page 1. Total products so far: 999\n",
      "Extraction complete. Total products: 999\n"
     ]
    }
   ],
   "execution_count": 3
  },
  {
   "metadata": {
    "ExecuteTime": {
     "end_time": "2025-08-31T06:17:44.395434Z",
     "start_time": "2025-08-31T06:17:44.386639Z"
    }
   },
   "cell_type": "code",
   "source": [
    "\n",
    "# --- TRANSFORMATION ---\n",
    "print(\"\\n=== TRANSFORMATION PHASE ===\")\n",
    "df_clean = df.copy()\n",
    "df_clean = df_clean.drop_duplicates()\n"
   ],
   "id": "570667be97305434",
   "outputs": [
    {
     "name": "stdout",
     "output_type": "stream",
     "text": [
      "\n",
      "=== TRANSFORMATION PHASE ===\n"
     ]
    }
   ],
   "execution_count": 4
  },
  {
   "metadata": {},
   "cell_type": "markdown",
   "source": "# 1. Handle missing values using the CORRECT column names",
   "id": "a3f2d3017a26a82a"
  },
  {
   "metadata": {
    "ExecuteTime": {
     "end_time": "2025-08-31T06:17:47.251101Z",
     "start_time": "2025-08-31T06:17:47.246050Z"
    }
   },
   "cell_type": "code",
   "source": [
    "\n",
    "df_clean['product_num_ratings'] = df_clean['product_num_ratings'].fillna(0).astype(int)\n",
    "df_clean['product_star_rating'] = df_clean['product_star_rating'].fillna(0)\n"
   ],
   "id": "6d44f9186c07b9bb",
   "outputs": [],
   "execution_count": 5
  },
  {
   "metadata": {},
   "cell_type": "markdown",
   "source": [
    "\n",
    "# 2. CRITICAL FIX: Clean and convert the 'product_price' column from string to float"
   ],
   "id": "871196ab68443268"
  },
  {
   "metadata": {
    "ExecuteTime": {
     "end_time": "2025-08-31T06:17:51.087382Z",
     "start_time": "2025-08-31T06:17:51.082767Z"
    }
   },
   "cell_type": "code",
   "source": [
    "# The price might have symbols like '$', '£', '€' or commas ','\n",
    "def clean_price(price_value):\n",
    "    if pd.isna(price_value):\n",
    "        return 0.0\n",
    "    # If it's already a number, return it\n",
    "    if isinstance(price_value, (int, float)):\n",
    "        return float(price_value)\n",
    "    # If it's a string, remove any non-digit characters except the decimal point\n",
    "    price_str = str(price_value)\n",
    "    # Remove currency symbols, commas, and any other non-numeric characters (except .)\n",
    "    cleaned_str = ''.join(char for char in price_str if char.isdigit() or char == '.')\n",
    "    # Convert the cleaned string to a float. If it's empty, return 0.\n",
    "    try:\n",
    "        return float(cleaned_str) if cleaned_str else 0.0\n",
    "    except ValueError:\n",
    "        return 0.0\n"
   ],
   "id": "5dd5a0ee174c5961",
   "outputs": [],
   "execution_count": 6
  },
  {
   "metadata": {
    "ExecuteTime": {
     "end_time": "2025-08-31T06:17:54.094677Z",
     "start_time": "2025-08-31T06:17:54.087576Z"
    }
   },
   "cell_type": "code",
   "source": [
    "\n",
    "# Apply the cleaning function to the price column\n",
    "df_clean['product_price'] = df_clean['product_price'].apply(clean_price)\n",
    "print(\"Cleaned product_price column. Sample prices:\", df_clean['product_price'].head().tolist())\n"
   ],
   "id": "db128528202b0c11",
   "outputs": [
    {
     "name": "stdout",
     "output_type": "stream",
     "text": [
      "Cleaned product_price column. Sample prices: [469.0, 370.0, 1799.0, 94.0, 1699.0]\n"
     ]
    }
   ],
   "execution_count": 7
  },
  {
   "metadata": {},
   "cell_type": "markdown",
   "source": "# 3. Define a simple exchange rate dictionary (Assumes prices are in local currency)",
   "id": "a223b60e01978722"
  },
  {
   "metadata": {
    "ExecuteTime": {
     "end_time": "2025-08-31T06:17:57.276199Z",
     "start_time": "2025-08-31T06:17:57.271357Z"
    }
   },
   "cell_type": "code",
   "source": [
    "\n",
    "# Note: We need to know the currency from the country. Let's map countries to currencies.\n",
    "country_to_currency = {\n",
    "    'US': 'USD', 'CA': 'CAD', 'UK': 'GBP', 'DE': 'EUR', 'FR': 'EUR',\n",
    "    'IT': 'EUR', 'ES': 'EUR', 'NL': 'EUR', 'AU': 'AUD', 'IN': 'INR', 'JP': 'JPY'\n",
    "}\n",
    "exchange_rates = {'USD': 1.0, 'CAD': 0.73, 'GBP': 1.22, 'EUR': 1.07, 'AUD': 0.65, 'INR': 0.012, 'JPY': 0.0067}\n"
   ],
   "id": "ab3fc6ca4c88bed9",
   "outputs": [],
   "execution_count": 8
  },
  {
   "metadata": {},
   "cell_type": "markdown",
   "source": "# 4. Create Derived Variables",
   "id": "b38fec0ea9281d94"
  },
  {
   "metadata": {
    "ExecuteTime": {
     "end_time": "2025-08-31T06:17:59.777638Z",
     "start_time": "2025-08-31T06:17:59.772238Z"
    }
   },
   "cell_type": "code",
   "source": [
    "\n",
    "# First, get the currency based on the country\n",
    "df_clean['product_currency'] = df_clean['country'].map(country_to_currency)\n",
    "\n"
   ],
   "id": "1413d34d2777464",
   "outputs": [],
   "execution_count": 9
  },
  {
   "metadata": {
    "ExecuteTime": {
     "end_time": "2025-08-31T06:18:02.524091Z",
     "start_time": "2025-08-31T06:18:02.510008Z"
    }
   },
   "cell_type": "code",
   "source": [
    "# Now calculate price in USD (This will now work because product_price is a number)\n",
    "df_clean['price_usd'] = df_clean.apply(\n",
    "    lambda row: row['product_price'] * exchange_rates.get(row['product_currency'], 1),\n",
    "    axis=1\n",
    ")\n",
    "df_clean['revenue_estimate'] = df_clean['price_usd'] * df_clean['product_num_ratings']\n",
    "\n",
    "def rating_bucket(rating):\n",
    "    if rating >= 4.5:\n",
    "        return 'Excellent'\n",
    "    elif rating >= 3.5:\n",
    "        return 'High'\n",
    "    elif rating >= 2.0:\n",
    "        return 'Medium'\n",
    "    else:\n",
    "        return 'Low'\n",
    "\n",
    "df_clean['rating_bucket'] = df_clean['product_star_rating'].apply(rating_bucket)\n",
    "# Avoid division by zero by adding 1 to the denominator\n",
    "df_clean['review_density'] = df_clean['product_num_ratings'] / (df_clean['price_usd'] + 1)\n"
   ],
   "id": "142e5e2c5b1c0828",
   "outputs": [],
   "execution_count": 10
  },
  {
   "metadata": {
    "ExecuteTime": {
     "end_time": "2025-08-31T06:18:05.493110Z",
     "start_time": "2025-08-31T06:18:05.486724Z"
    }
   },
   "cell_type": "code",
   "source": [
    "\n",
    "# Simple category extraction from title\n",
    "def extract_category(title):\n",
    "    if pd.isna(title):\n",
    "        return 'Other'\n",
    "    title_lower = title.lower()\n",
    "    if 'game' in title_lower:\n",
    "        return 'Gaming'\n",
    "    elif 'security' in title_lower or 'antivirus' in title_lower or 'vpn' in title_lower:\n",
    "        return 'Security'\n",
    "    elif 'office' in title_lower or 'microsoft' in title_lower:\n",
    "        return 'Productivity'\n",
    "    elif 'photo' in title_lower or 'adobe' in title_lower:\n",
    "        return 'Creative'\n",
    "    else:\n",
    "        return 'Other'\n",
    "\n",
    "df_clean['category'] = df_clean['product_title'].apply(extract_category)\n"
   ],
   "id": "5fbf854b749a2aea",
   "outputs": [],
   "execution_count": 11
  },
  {
   "metadata": {
    "ExecuteTime": {
     "end_time": "2025-08-31T06:18:08.526308Z",
     "start_time": "2025-08-31T06:18:08.519186Z"
    }
   },
   "cell_type": "code",
   "source": [
    "\n",
    "# Simple brand extraction (assumes brand is first word in title)\n",
    "df_clean['brand'] = df_clean['product_title'].str.split().str[0]\n"
   ],
   "id": "5152b0726db7ac30",
   "outputs": [],
   "execution_count": 12
  },
  {
   "metadata": {
    "ExecuteTime": {
     "end_time": "2025-08-31T06:18:12.112297Z",
     "start_time": "2025-08-31T06:18:12.102453Z"
    }
   },
   "cell_type": "code",
   "source": [
    "\n",
    "# Map countries to regions\n",
    "region_map = {\n",
    "    'US': 'North America', 'CA': 'North America',\n",
    "    'UK': 'Europe', 'DE': 'Europe', 'FR': 'Europe', 'IT': 'Europe', 'ES': 'Europe', 'NL': 'Europe',\n",
    "    'AU': 'Oceania',\n",
    "    'IN': 'Asia', 'JP': 'Asia'\n",
    "}\n",
    "df_clean['country_region'] = df_clean['country'].map(region_map).fillna('Other')\n",
    "\n",
    "print(\"Transformation complete. Sample of new calculated columns:\")\n",
    "print(df_clean[['product_price', 'product_currency', 'price_usd', 'rating_bucket']].head())\n"
   ],
   "id": "e17f9949d66f7965",
   "outputs": [
    {
     "name": "stdout",
     "output_type": "stream",
     "text": [
      "Transformation complete. Sample of new calculated columns:\n",
      "   product_price product_currency  price_usd rating_bucket\n",
      "0          469.0              INR      5.628          High\n",
      "1          370.0              INR      4.440          High\n",
      "2         1799.0              INR     21.588     Excellent\n",
      "3           94.0              INR      1.128          High\n",
      "4         1699.0              INR     20.388          High\n"
     ]
    }
   ],
   "execution_count": 13
  },
  {
   "metadata": {
    "ExecuteTime": {
     "end_time": "2025-08-31T06:18:15.185025Z",
     "start_time": "2025-08-31T06:18:15.179502Z"
    }
   },
   "cell_type": "code",
   "source": [
    "\n",
    "# --- LOADING ---\n",
    "print(\"\\n=== LOADING PHASE ===\")\n",
    "# Build the database connection string from environment variables\n",
    "db_connection_url = f\"postgresql+psycopg2://{os.getenv('DB_USER')}:{os.getenv('DB_PASSWORD')}@{os.getenv('DB_HOST')}:{os.getenv('DB_PORT')}/{os.getenv('DB_NAME')}\"\n"
   ],
   "id": "d73bc29bf8e791e1",
   "outputs": [
    {
     "name": "stdout",
     "output_type": "stream",
     "text": [
      "\n",
      "=== LOADING PHASE ===\n"
     ]
    }
   ],
   "execution_count": 14
  },
  {
   "metadata": {
    "ExecuteTime": {
     "end_time": "2025-08-31T06:18:17.950565Z",
     "start_time": "2025-08-31T06:18:17.903403Z"
    }
   },
   "cell_type": "code",
   "source": [
    "\n",
    "# Create SQLAlchemy engine\n",
    "engine = create_engine(db_connection_url)\n"
   ],
   "id": "43e5cd2a2ca9138",
   "outputs": [],
   "execution_count": 15
  },
  {
   "metadata": {
    "ExecuteTime": {
     "end_time": "2025-08-31T06:18:37.572929Z",
     "start_time": "2025-08-31T06:18:20.321946Z"
    }
   },
   "cell_type": "code",
   "source": [
    "\n",
    "# Define a table name\n",
    "table_name = 'amazon_bestsellers'\n",
    "\n",
    "print(\"Loading data into PostgreSQL...\")\n",
    "# Use `if_exists='replace'` for the first run. Change to `'append'` for updates.\n",
    "df_clean.to_sql(table_name, engine, if_exists='replace', index=False)\n",
    "print(f\"Successfully loaded {len(df_clean)} records into table '{table_name}'.\")\n",
    "print(\"ETL Pipeline completed successfully! 🎉\")\n"
   ],
   "id": "2d26db7382a42610",
   "outputs": [
    {
     "name": "stdout",
     "output_type": "stream",
     "text": [
      "Loading data into PostgreSQL...\n",
      "Successfully loaded 999 records into table 'amazon_bestsellers'.\n",
      "ETL Pipeline completed successfully! 🎉\n"
     ]
    }
   ],
   "execution_count": 16
  },
  {
   "metadata": {
    "ExecuteTime": {
     "end_time": "2025-08-31T06:18:41.728319Z",
     "start_time": "2025-08-31T06:18:41.723507Z"
    }
   },
   "cell_type": "code",
   "source": [
    "\n",
    "# --- ANALYSIS ---\n",
    "print(\"\\n=== SQL ANALYSIS IN PYCHARM (POSTGRESQL COMPATIBLE) ===\")\n"
   ],
   "id": "f03745f430a195df",
   "outputs": [
    {
     "name": "stdout",
     "output_type": "stream",
     "text": [
      "\n",
      "=== SQL ANALYSIS IN PYCHARM (POSTGRESQL COMPATIBLE) ===\n"
     ]
    }
   ],
   "execution_count": 17
  },
  {
   "metadata": {
    "ExecuteTime": {
     "end_time": "2025-08-31T06:18:44.222219Z",
     "start_time": "2025-08-31T06:18:44.217187Z"
    }
   },
   "cell_type": "code",
   "source": [
    "\n",
    "# Create a list of the analysis queries with PostgreSQL-compatible syntax\n",
    "analysis_queries = {\n",
    "    \"1. Top 5 Highest Revenue Products by Country\": \"\"\"\n",
    "        SELECT product_title, country, revenue_estimate\n",
    "        FROM amazon_bestsellers\n",
    "        ORDER BY revenue_estimate DESC\n",
    "        LIMIT 5;\n",
    "    \"\"\",\n",
    "\n",
    "    \"2. Average Product Price per Category\": \"\"\"\n",
    "        SELECT category, ROUND(AVG(price_usd)::numeric, 2) AS avg_price_usd\n",
    "        FROM amazon_bestsellers\n",
    "        GROUP BY category\n",
    "        ORDER BY avg_price_usd DESC;\n",
    "    \"\"\",\n",
    "\n",
    "    \"3. Products Count per Rating Bucket\": \"\"\"\n",
    "        SELECT rating_bucket, COUNT(*) AS product_count\n",
    "        FROM amazon_bestsellers\n",
    "        GROUP BY rating_bucket\n",
    "        ORDER BY product_count DESC;\n",
    "    \"\"\",\n",
    "\n",
    "    \"4. Top 5 Products with Highest Review Density\": \"\"\"\n",
    "        SELECT product_title, review_density\n",
    "        FROM amazon_bestsellers\n",
    "        WHERE price_usd > 0\n",
    "        ORDER BY review_density DESC\n",
    "        LIMIT 5;\n",
    "    \"\"\",\n",
    "\n",
    "    \"5. Average Star Rating per Brand (with multiple products)\": \"\"\"\n",
    "        SELECT brand, ROUND(AVG(product_star_rating)::numeric, 2) AS avg_rating\n",
    "        FROM amazon_bestsellers\n",
    "        GROUP BY brand\n",
    "        HAVING COUNT(*) > 1\n",
    "        ORDER BY avg_rating DESC;\n",
    "    \"\"\",\n",
    "\n",
    "    \"6. Total Revenue Estimate by Country Region\": \"\"\"\n",
    "        SELECT country_region, ROUND(SUM(revenue_estimate)::numeric, 2) AS total_revenue\n",
    "        FROM amazon_bestsellers\n",
    "        GROUP BY country_region\n",
    "        ORDER BY total_revenue DESC;\n",
    "    \"\"\",\n",
    "\n",
    "    \"7. Top 5 Most Expensive Products\": \"\"\"\n",
    "        SELECT product_title, country, price_usd\n",
    "        FROM amazon_bestsellers\n",
    "        ORDER BY price_usd DESC\n",
    "        LIMIT 5;\n",
    "    \"\"\"\n",
    "}\n"
   ],
   "id": "2032ff9997909724",
   "outputs": [],
   "execution_count": 18
  },
  {
   "metadata": {
    "ExecuteTime": {
     "end_time": "2025-08-31T06:18:56.677743Z",
     "start_time": "2025-08-31T06:18:49.096812Z"
    }
   },
   "cell_type": "code",
   "source": [
    "\n",
    "# Execute each query and display results\n",
    "for query_name, query_sql in analysis_queries.items():\n",
    "    print(f\"\\n📊 {query_name}\")\n",
    "    print(\"-\" * 60)\n",
    "\n",
    "    try:\n",
    "        # Execute the query and load results into a DataFrame\n",
    "        result_df = pd.read_sql_query(query_sql, engine)\n",
    "\n",
    "        # Display the results\n",
    "        if not result_df.empty:\n",
    "            print(result_df.to_string(index=False))\n",
    "        else:\n",
    "            print(\"No results found.\")\n",
    "\n",
    "    except Exception as e:\n",
    "        print(f\"Error executing query: {e}\")\n",
    "\n",
    "print(\"\\n✅ All analysis completed successfully!\")\n"
   ],
   "id": "4653f90cb07bea0",
   "outputs": [
    {
     "name": "stdout",
     "output_type": "stream",
     "text": [
      "\n",
      "📊 1. Top 5 Highest Revenue Products by Country\n",
      "------------------------------------------------------------\n",
      "                                                                                                                product_title country  revenue_estimate\n",
      "                                                                     Microsoft Office Home 2024 | Aktivierungscode per E-Mail      DE      246366227.77\n",
      "Microsoft 365 Family | 1 Jahr | bis zu 6 Personen | Office Apps mit KI | bis zu 6 TB Cloudspeicher | Amazon Abonnement mit au      DE      223780774.77\n",
      "      Microsoft 365 Single | 1 Jahr | 1 Person | Office Apps mit KI | 1 TB Cloudspeicher | Abo mit automatischer Verlängerung      DE      174503422.77\n",
      "      WISO Steuer 2025 (für Steuerjahr 2024) Für Windows, Mac, Smartphones und Tablets | Digitaler Download | Amazon Exklusiv      DE       56870296.70\n",
      "     WISO Steuer 2025 (für Steuerjahr 2024)|Für Windows, Mac, Smartphones und Tablets|frustfreie Verpackung | Amazon Exklusiv      DE       51262908.20\n",
      "\n",
      "📊 2. Average Product Price per Category\n",
      "------------------------------------------------------------\n",
      "    category  avg_price_usd\n",
      "    Creative        8298.00\n",
      "Productivity        3112.52\n",
      "    Security        2188.56\n",
      "       Other        1506.05\n",
      "      Gaming         959.51\n",
      "\n",
      "📊 3. Products Count per Rating Bucket\n",
      "------------------------------------------------------------\n",
      "rating_bucket  product_count\n",
      "         High            671\n",
      "    Excellent            228\n",
      "       Medium             64\n",
      "          Low             36\n",
      "\n",
      "📊 4. Top 5 Products with Highest Review Density\n",
      "------------------------------------------------------------\n",
      "                                                                                                   product_title  review_density\n",
      "  Bitdefender - 1 Device,1 Year - Mobile Security | Android| Latest Version | Email Delivery In 2 Hours- No Cd |     4525.375940\n",
      "      Kaspersky Internet Security for Android Mobile Latest Version- 1 Device, 1 Year (Email Delivery in 1 Hour)     3514.167651\n",
      "                 McAfee Antivirus 2024 | 1 Device, 1 Year | Antivirus Internet Security Software| Email Delivery     3103.835522\n",
      "Bitdefender - 1 Computer,1 Year - Total Security | Windows | Latest Version | Email Delivery In 2 Hours- No Cd |     2680.371901\n",
      "         Kaspersky | Premium - Total Security (Ultimate Security) | 1 Device | 1 Year | Email Delivery in 1 Hour     2010.259505\n",
      "\n",
      "📊 5. Average Star Rating per Brand (with multiple products)\n",
      "------------------------------------------------------------\n",
      "                         brand  avg_rating\n",
      "                        Movavi        5.00\n",
      "                    TECHLOCKER        4.95\n",
      "                    Fate/Grand        4.80\n",
      "                          WISO        4.76\n",
      "                           The        4.73\n",
      "                       Mullvad        4.73\n",
      "                     DocuWorks        4.70\n",
      "                         Blaze        4.60\n",
      "                           Tax        4.60\n",
      "                      Synology        4.60\n",
      "                           D-S        4.53\n",
      "                          Xbox        4.50\n",
      "                          Moho        4.50\n",
      "                          CLIP        4.48\n",
      "                     Kaspersky        4.46\n",
      "                          [Old        4.39\n",
      "                      Guardian        4.35\n",
      "                      CCleaner        4.35\n",
      "                            Ms        4.35\n",
      "                  Malwarebytes        4.34\n",
      "                    OpenOffice        4.30\n",
      "                   QuickSteuer        4.30\n",
      "                         Trend        4.30\n",
      "                         Panda        4.28\n",
      "                            K7        4.25\n",
      "                     ドラゴンクエストX        4.25\n",
      "                   Bitdefender        4.21\n",
      "                          (Old        4.20\n",
      "                           Net        4.20\n",
      "                             G        4.20\n",
      "                        McAfee        4.19\n",
      "                         MAGIX        4.17\n",
      "                       NordVPN        4.16\n",
      "                       McAfee+        4.15\n",
      "                       PC-TECH        4.15\n",
      "                          NPAV        4.15\n",
      "                       Laplink        4.14\n",
      "                         Quick        4.13\n",
      "                      TurboTax        4.13\n",
      "                 Tech-Shop-pro        4.10\n",
      "                           Win        4.10\n",
      "【トレンドマイクロ公式】セキュリティソフト|ウイルスバスター        4.10\n",
      "                          初音ミク        4.10\n",
      "                           H&R        4.10\n",
      "                      NordPass        4.08\n",
      "                      PowerDVD        4.05\n",
      "                     CorelDRAW        4.05\n",
      "                         Avast        4.04\n",
      "                        Norton        4.02\n",
      "                     ダウンロード販売用        4.00\n",
      "                          ノートン        4.00\n",
      "                           AVG        4.00\n",
      "                          Wyze        4.00\n",
      "                        Office        3.99\n",
      "                         Corel        3.98\n",
      "                   LibreOffice        3.92\n",
      "                     Microsoft        3.91\n",
      "                     【公式】マカフィー        3.90\n",
      "                    【Windows11        3.90\n",
      "                         ジャングル        3.90\n",
      "                          ZERO        3.90\n",
      "                         Roxio        3.90\n",
      "               【自動更新】Microsoft        3.90\n",
      "                       Windows        3.87\n",
      "                       McAfee®        3.85\n",
      "                            MS        3.85\n",
      "                          筆ぐるめ        3.80\n",
      "                       Quicken        3.77\n",
      "                   OfficeSuite        3.73\n",
      "                      Systweak        3.70\n",
      "                       ソースネクスト        3.68\n",
      "                      Creative        3.65\n",
      "                       Webroot        3.62\n",
      "                         Video        3.60\n",
      "                          ESET        3.59\n",
      "                          Nero        3.55\n",
      "                          GIMP        3.53\n",
      "                    Individual        3.50\n",
      "                     Surfshark        3.50\n",
      "                   TrulyOffice        3.50\n",
      "                        AOSデータ        3.50\n",
      "                         Adobe        3.45\n",
      "                           PDF        3.40\n",
      "                        Yamaha        3.40\n",
      "                         Ralix        3.38\n",
      "                         Apple        3.15\n",
      "                           DVD        2.65\n",
      "               ロード・エルメロイII世の冒険        2.40\n",
      "                      Software        2.25\n",
      "                            3D        2.10\n",
      "                       [Steam]        0.00\n",
      "                          Auto        0.00\n",
      "\n",
      "📊 6. Total Revenue Estimate by Country Region\n",
      "------------------------------------------------------------\n",
      "country_region  total_revenue\n",
      "        Europe   2.092738e+09\n",
      "         Other   4.120061e+07\n",
      " North America   1.763607e+07\n",
      "          Asia   7.173317e+06\n",
      "       Oceania   8.781538e+05\n",
      "\n",
      "📊 7. Top 5 Most Expensive Products\n",
      "------------------------------------------------------------\n",
      "                                                                product_title country  price_usd\n",
      "        Adobe Creative Cloud | Standard | 1 Anno | PC/Mac | Download Digitale      IT   47934.93\n",
      "               Adobe Creative Cloud All Apps | 1 an | PC/Mac | Téléchargement      FR   44938.93\n",
      "           Adobe Creative Cloud|Grafik Design|Gen KI||PC/Mac/Digital Download      DE   39472.30\n",
      "             Windows 11 │ Pro Edition │ Codice d'attivazione per PC via email      IT   27713.00\n",
      "Corel CorelDRAW Graphics Suite 2024, 1 anno, 1 dispositivo, Download digitale      IT   23047.80\n",
      "\n",
      "✅ All analysis completed successfully!\n"
     ]
    }
   ],
   "execution_count": 19
  },
  {
   "metadata": {
    "ExecuteTime": {
     "end_time": "2025-08-31T06:14:16.808908Z",
     "start_time": "2025-08-31T06:14:16.798470Z"
    }
   },
   "cell_type": "code",
   "source": [
    "\n",
    "# --- PANDAS ANALYSIS (ALTERNATIVE) ---\n",
    "print(\"\\n=== PANDAS ANALYSIS (ALTERNATIVE) ===\")\n",
    "\n",
    "# 2. Average product price per category (using pandas)\n",
    "avg_price_by_category = df_clean.groupby('category')['price_usd'].mean().round(2)\n",
    "print(\"\\nAverage Price by Category:\")\n",
    "print(avg_price_by_category.sort_values(ascending=False))\n",
    "\n",
    "# 3. Count products in each rating bucket\n",
    "rating_bucket_count = df_clean['rating_bucket'].value_counts()\n",
    "print(\"\\nProducts per Rating Bucket:\")\n",
    "print(rating_bucket_count)\n",
    "\n",
    "# 6. Total revenue by region\n",
    "revenue_by_region = df_clean.groupby('country_region')['revenue_estimate'].sum().round(2)\n",
    "print(\"\\nTotal Revenue by Region:\")\n",
    "print(revenue_by_region.sort_values(ascending=False))\n",
    "\n",
    "print(\"\\n🎉 ETL Pipeline and Analysis completely finished!\")"
   ],
   "id": "1cbed242d4c88c29",
   "outputs": [
    {
     "name": "stdout",
     "output_type": "stream",
     "text": [
      "\n",
      "=== PANDAS ANALYSIS (ALTERNATIVE) ===\n",
      "\n",
      "Average Price by Category:\n",
      "category\n",
      "Creative        8298.00\n",
      "Productivity    3112.52\n",
      "Security        2188.56\n",
      "Other           1506.05\n",
      "Gaming           959.51\n",
      "Name: price_usd, dtype: float64\n",
      "\n",
      "Products per Rating Bucket:\n",
      "rating_bucket\n",
      "High         671\n",
      "Excellent    228\n",
      "Medium        64\n",
      "Low           36\n",
      "Name: count, dtype: int64\n",
      "\n",
      "Total Revenue by Region:\n",
      "country_region\n",
      "Europe           2.092738e+09\n",
      "Other            4.120061e+07\n",
      "North America    1.763607e+07\n",
      "Asia             7.173317e+06\n",
      "Oceania          8.781538e+05\n",
      "Name: revenue_estimate, dtype: float64\n",
      "\n",
      "🎉 ETL Pipeline and Analysis completely finished!\n"
     ]
    }
   ],
   "execution_count": 20
  }
 ],
 "metadata": {
  "kernelspec": {
   "display_name": "Python 3",
   "language": "python",
   "name": "python3"
  },
  "language_info": {
   "codemirror_mode": {
    "name": "ipython",
    "version": 2
   },
   "file_extension": ".py",
   "mimetype": "text/x-python",
   "name": "python",
   "nbconvert_exporter": "python",
   "pygments_lexer": "ipython2",
   "version": "2.7.6"
  }
 },
 "nbformat": 4,
 "nbformat_minor": 5
}
